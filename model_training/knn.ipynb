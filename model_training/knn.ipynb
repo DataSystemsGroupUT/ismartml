{
 "cells": [
  {
   "cell_type": "code",
   "execution_count": 1,
   "metadata": {},
   "outputs": [],
   "source": [
    "%matplotlib inline\n",
    "import matplotlib\n",
    "import numpy as np\n",
    "import pandas as pd\n",
    "import matplotlib.pyplot as plt\n",
    "from sklearn.preprocessing import OneHotEncoder\n",
    "#plt.style.use('ggplot')\n",
    "#from matplotlib.pyplot import figure"
   ]
  },
  {
   "cell_type": "code",
   "execution_count": 2,
   "metadata": {},
   "outputs": [],
   "source": [
    "#metric=\"accuracy\"\n",
    "#metric=\"f1_score\"\n",
    "#metric=\"recall\"\n",
    "metric=\"precision\"\n",
    "meta = pd.read_csv(\"merged_meta_\"+metric+\".csv\")"
   ]
  },
  {
   "cell_type": "code",
   "execution_count": 3,
   "metadata": {},
   "outputs": [],
   "source": [
    "#X = pd.DataFrame(columns=meta.columns)\n",
    "X=meta"
   ]
  },
  {
   "cell_type": "code",
   "execution_count": 4,
   "metadata": {},
   "outputs": [
    {
     "data": {
      "text/plain": [
       "Index(['dataset', 'classifier', 'score', 'nr_classes', 'nr_instances',\n",
       "       'log_nr_instances', 'nr_features', 'log_nr_features', 'missing_val',\n",
       "       'nr_categorical_features', 'dataset_ratio', 'labels_mean', 'labels_std',\n",
       "       'skew_min', 'skew_std', 'skew_mean', 'skew_q1', 'skew_q3', 'skew_max',\n",
       "       'kurtosis_min', 'kurtosis_std', 'kurtosis_mean', 'kurtosis_q1',\n",
       "       'kurtosis_q3', 'kurtosis_max', 'rho_min', 'rho_max', 'rho_mean',\n",
       "       'rho_std', 'class_entropy', 'prob_min', 'prob_mean', 'prob_std',\n",
       "       'prob_max', 'norm_entropy_min', 'norm_entropy_mean', 'norm_entropy_std',\n",
       "       'norm_entropy_max', 'mi_min', 'mi_mean', 'mi_std', 'mi_max',\n",
       "       'equiv_nr_feat', 'noise_signal_ratio'],\n",
       "      dtype='object')"
      ]
     },
     "execution_count": 4,
     "metadata": {},
     "output_type": "execute_result"
    }
   ],
   "source": [
    "X.columns"
   ]
  },
  {
   "cell_type": "code",
   "execution_count": 5,
   "metadata": {},
   "outputs": [],
   "source": [
    "#meta.loc[meta[meta[\"Dataset\"]==meta[\"Dataset\"].unique()[0]]['Test accuracy'].idxmax()]"
   ]
  },
  {
   "cell_type": "code",
   "execution_count": 6,
   "metadata": {},
   "outputs": [],
   "source": [
    "y=X.loc[:,\"classifier\"]\n",
    "classes=X.loc[:,\"classifier\"].unique()\n",
    "y=np.array([np.where(classes==row)[0][0] for row in X.loc[:,\"classifier\"] ])\n",
    "X=X.iloc[:,3:]\n"
   ]
  },
  {
   "cell_type": "code",
   "execution_count": 7,
   "metadata": {},
   "outputs": [],
   "source": [
    "from sklearn.preprocessing import MinMaxScaler\n",
    "scaler = MinMaxScaler()\n",
    "scaler.fit(X)\n",
    "Xs=scaler.transform(X)"
   ]
  },
  {
   "cell_type": "code",
   "execution_count": 8,
   "metadata": {},
   "outputs": [],
   "source": [
    "#ignore\n",
    "Xs=X.to_numpy()"
   ]
  },
  {
   "cell_type": "code",
   "execution_count": 9,
   "metadata": {},
   "outputs": [
    {
     "data": {
      "text/plain": [
       "['scaler.joblib']"
      ]
     },
     "execution_count": 9,
     "metadata": {},
     "output_type": "execute_result"
    }
   ],
   "source": [
    "from joblib import dump, load\n",
    "dump(scaler, 'scaler.joblib') "
   ]
  },
  {
   "cell_type": "code",
   "execution_count": 64,
   "metadata": {},
   "outputs": [
    {
     "data": {
      "text/plain": [
       "array([[<matplotlib.axes._subplots.AxesSubplot object at 0x7fb7cb92f3c8>,\n",
       "        <matplotlib.axes._subplots.AxesSubplot object at 0x7fb7cb8e66d8>,\n",
       "        <matplotlib.axes._subplots.AxesSubplot object at 0x7fb7cb916b38>,\n",
       "        <matplotlib.axes._subplots.AxesSubplot object at 0x7fb7cb8d0128>,\n",
       "        <matplotlib.axes._subplots.AxesSubplot object at 0x7fb7cb87c6d8>,\n",
       "        <matplotlib.axes._subplots.AxesSubplot object at 0x7fb7cb82cc88>],\n",
       "       [<matplotlib.axes._subplots.AxesSubplot object at 0x7fb7c9170208>,\n",
       "        <matplotlib.axes._subplots.AxesSubplot object at 0x7fb7c919e7f0>,\n",
       "        <matplotlib.axes._subplots.AxesSubplot object at 0x7fb7c919e828>,\n",
       "        <matplotlib.axes._subplots.AxesSubplot object at 0x7fb7c9109358>,\n",
       "        <matplotlib.axes._subplots.AxesSubplot object at 0x7fb7c90bb908>,\n",
       "        <matplotlib.axes._subplots.AxesSubplot object at 0x7fb7c906eeb8>],\n",
       "       [<matplotlib.axes._subplots.AxesSubplot object at 0x7fb7c902b4a8>,\n",
       "        <matplotlib.axes._subplots.AxesSubplot object at 0x7fb7c905ca58>,\n",
       "        <matplotlib.axes._subplots.AxesSubplot object at 0x7fb7a3739048>,\n",
       "        <matplotlib.axes._subplots.AxesSubplot object at 0x7fb7a36e85f8>,\n",
       "        <matplotlib.axes._subplots.AxesSubplot object at 0x7fb7a3699ba8>,\n",
       "        <matplotlib.axes._subplots.AxesSubplot object at 0x7fb7a3658198>],\n",
       "       [<matplotlib.axes._subplots.AxesSubplot object at 0x7fb7a3606748>,\n",
       "        <matplotlib.axes._subplots.AxesSubplot object at 0x7fb7a363acf8>,\n",
       "        <matplotlib.axes._subplots.AxesSubplot object at 0x7fb7a35f82e8>,\n",
       "        <matplotlib.axes._subplots.AxesSubplot object at 0x7fb7a35a8898>,\n",
       "        <matplotlib.axes._subplots.AxesSubplot object at 0x7fb7a355ce48>,\n",
       "        <matplotlib.axes._subplots.AxesSubplot object at 0x7fb7a3518438>],\n",
       "       [<matplotlib.axes._subplots.AxesSubplot object at 0x7fb7a34c89e8>,\n",
       "        <matplotlib.axes._subplots.AxesSubplot object at 0x7fb7a34fbf98>,\n",
       "        <matplotlib.axes._subplots.AxesSubplot object at 0x7fb7a34b7588>,\n",
       "        <matplotlib.axes._subplots.AxesSubplot object at 0x7fb7a3469b38>,\n",
       "        <matplotlib.axes._subplots.AxesSubplot object at 0x7fb7a3428128>,\n",
       "        <matplotlib.axes._subplots.AxesSubplot object at 0x7fb7a33da6d8>],\n",
       "       [<matplotlib.axes._subplots.AxesSubplot object at 0x7fb7a3389c88>,\n",
       "        <matplotlib.axes._subplots.AxesSubplot object at 0x7fb7a3348278>,\n",
       "        <matplotlib.axes._subplots.AxesSubplot object at 0x7fb7a3377828>,\n",
       "        <matplotlib.axes._subplots.AxesSubplot object at 0x7fb7a332add8>,\n",
       "        <matplotlib.axes._subplots.AxesSubplot object at 0x7fb7a32e73c8>,\n",
       "        <matplotlib.axes._subplots.AxesSubplot object at 0x7fb7a3297978>],\n",
       "       [<matplotlib.axes._subplots.AxesSubplot object at 0x7fb7a3249f28>,\n",
       "        <matplotlib.axes._subplots.AxesSubplot object at 0x7fb7a3207518>,\n",
       "        <matplotlib.axes._subplots.AxesSubplot object at 0x7fb7a3236ac8>,\n",
       "        <matplotlib.axes._subplots.AxesSubplot object at 0x7fb7a31f60b8>,\n",
       "        <matplotlib.axes._subplots.AxesSubplot object at 0x7fb7a31a6668>,\n",
       "        <matplotlib.axes._subplots.AxesSubplot object at 0x7fb7a3157c18>]],\n",
       "      dtype=object)"
      ]
     },
     "execution_count": 64,
     "metadata": {},
     "output_type": "execute_result"
    },
    {
     "data": {
      "image/png": "[encoded data removed]",
      "text/plain": [
       "<Figure size 1080x1080 with 42 Axes>"
      ]
     },
     "metadata": {
      "needs_background": "light"
     },
     "output_type": "display_data"
    }
   ],
   "source": [
    "pd.DataFrame.hist(pd.DataFrame(Xs), figsize = [15,15])"
   ]
  },
  {
   "cell_type": "code",
   "execution_count": 11,
   "metadata": {},
   "outputs": [
    {
     "data": {
      "text/plain": [
       "(array([29.,  2., 24., 11., 16.,  3.,  4.,  2.,  4.,  4.]),\n",
       " array([ 0. ,  1.5,  3. ,  4.5,  6. ,  7.5,  9. , 10.5, 12. , 13.5, 15. ]),\n",
       " <a list of 10 Patch objects>)"
      ]
     },
     "execution_count": 11,
     "metadata": {},
     "output_type": "execute_result"
    },
    {
     "data": {
      "image/png": "[encoded data removed]",
      "text/plain": [
       "<Figure size 432x288 with 1 Axes>"
      ]
     },
     "metadata": {
      "needs_background": "light"
     },
     "output_type": "display_data"
    }
   ],
   "source": [
    "plt.hist(y)"
   ]
  },
  {
   "cell_type": "code",
   "execution_count": 12,
   "metadata": {},
   "outputs": [
    {
     "data": {
      "text/plain": [
       "array([3.22531150e+01, 4.21890825e+01, 9.65892450e+00, 1.45216530e+03,\n",
       "       4.01087420e+02, 1.08540543e+02, 1.38697433e+01, 1.78370480e+01,\n",
       "       2.24511682e+01, 1.47525590e+01, 1.03770893e+01, 4.77008651e+01,\n",
       "       6.33935413e+01, 4.56238942e+01, 5.90011709e+01, 2.96967690e+02,\n",
       "       1.06134556e+02, 1.86517648e+01, 4.20234132e+00, 1.81787090e+01,\n",
       "       3.71283173e+02, 5.82725721e+01, 2.67162122e+01, 3.44451390e+01,\n",
       "       1.57597427e+01, 1.66935447e+02, 5.41694789e+00, 6.00356201e+00,\n",
       "       1.98896583e+01, 2.62406020e+01, 6.11373452e+01, 1.09208328e+01,\n",
       "       7.21354006e+00, 1.91947882e+01, 2.33821172e+00, 3.26713610e+01,\n",
       "       2.30725018e+01, 2.29680477e+02, 3.73546092e+01, 1.65843777e+02,\n",
       "       1.07082404e+02, 2.44158485e+02, 3.33511805e+02, 1.25064681e+02,\n",
       "       1.51327366e+01, 4.74243160e+01, 1.06367481e+01, 7.56227205e+00,\n",
       "       1.68050206e+01, 5.00639203e+01, 2.62717745e+00, 1.87702641e+01,\n",
       "       4.29662066e+01, 2.66556126e+01, 1.41702422e+01, 1.18426131e+01,\n",
       "       3.17815751e+02, 3.80067881e+01, 5.68127300e+01, 5.98345209e+01,\n",
       "       9.22468724e+00, 2.45067470e+01, 1.01257799e+02, 1.80872084e+01,\n",
       "       5.95716463e+01, 9.20559051e+01, 2.82354305e+01, 4.69517031e+01,\n",
       "       9.97900251e+00, 1.31591710e+01, 6.02015565e+01, 5.09425072e+00,\n",
       "       1.81284807e+01, 1.24788266e+01, 1.88902828e+01, 6.12848606e+01,\n",
       "       4.46056903e+02, 1.53399275e+01, 5.79996496e+00, 1.27533179e+02,\n",
       "       3.71014450e+02, 2.78826655e+02, 1.16351620e+01, 9.46695839e+01,\n",
       "       2.12717721e+02, 1.89640031e+02, 3.23035881e+01, 6.52829289e+03,\n",
       "       9.39192530e+00, 1.14693735e+01, 7.51537720e+01, 5.26248287e+01,\n",
       "       7.23354571e+00, 1.50445756e+01, 4.29105312e+00, 1.21468406e+01,\n",
       "       1.07592934e+01, 2.24886890e+01, 2.81915706e+01])"
      ]
     },
     "execution_count": 12,
     "metadata": {},
     "output_type": "execute_result"
    }
   ],
   "source": [
    "Xs[:,-2]"
   ]
  },
  {
   "cell_type": "code",
   "execution_count": 51,
   "metadata": {},
   "outputs": [],
   "source": [
    "sp=20\n",
    "np.random.seed()\n",
    "indices = np.random.permutation(len(X))\n",
    "X_train = Xs[indices[:-sp]]\n",
    "y_train = y[indices[:-sp]]\n",
    "X_test = Xs[indices[-sp:]]\n",
    "y_test = y[indices[-sp:]]"
   ]
  },
  {
   "cell_type": "code",
   "execution_count": 52,
   "metadata": {},
   "outputs": [
    {
     "data": {
      "text/plain": [
       "(79, 41)"
      ]
     },
     "execution_count": 52,
     "metadata": {},
     "output_type": "execute_result"
    }
   ],
   "source": [
    "X_train.shape"
   ]
  },
  {
   "cell_type": "code",
   "execution_count": 53,
   "metadata": {},
   "outputs": [
    {
     "data": {
      "text/plain": [
       "(20, 41)"
      ]
     },
     "execution_count": 53,
     "metadata": {},
     "output_type": "execute_result"
    }
   ],
   "source": [
    "X_test.shape"
   ]
  },
  {
   "cell_type": "code",
   "execution_count": 60,
   "metadata": {},
   "outputs": [
    {
     "name": "stdout",
     "output_type": "stream",
     "text": [
      "0.4430379746835443 0.15\n"
     ]
    }
   ],
   "source": [
    "from sklearn.neighbors import KNeighborsClassifier\n",
    "knn=KNeighborsClassifier(n_neighbors=3,p=2,leaf_size=30)\n",
    "knn.fit(X_train,y_train)\n",
    "print(knn.score(X_train,y_train),knn.score(X_test,y_test))"
   ]
  },
  {
   "cell_type": "code",
   "execution_count": 61,
   "metadata": {},
   "outputs": [],
   "source": [
    "#knn.fit(Xs,y)\n",
    "#knn.score(Xs,y)"
   ]
  },
  {
   "cell_type": "code",
   "execution_count": 62,
   "metadata": {},
   "outputs": [],
   "source": [
    "#from joblib import dump, load\n",
    "#dump(knn, 'knn.joblib') "
   ]
  },
  {
   "cell_type": "code",
   "execution_count": 63,
   "metadata": {},
   "outputs": [
    {
     "name": "stdout",
     "output_type": "stream",
     "text": [
      "0.9873417721518988 0.25\n"
     ]
    }
   ],
   "source": [
    "from sklearn.ensemble import RandomForestClassifier\n",
    "fr=RandomForestClassifier()\n",
    "fr.fit(X_train,y_train)\n",
    "print(fr.score(X_train,y_train),fr.score(X_test,y_test))\n",
    "#fr.fit(X,y)\n",
    "#print(fr.score(X,y))"
   ]
  },
  {
   "cell_type": "code",
   "execution_count": 20,
   "metadata": {},
   "outputs": [],
   "source": [
    "#from sklearn.svm import SVC\n",
    "#clf = SVC(gamma='auto', kernel=\"linear\")\n",
    "#clf.fit(X_train, y_train) \n",
    "#print(clf.score(X_train,y_train),clf.score(X_test,y_test))"
   ]
  },
  {
   "cell_type": "code",
   "execution_count": 21,
   "metadata": {},
   "outputs": [
    {
     "data": {
      "text/plain": [
       "['fr_precision.joblib']"
      ]
     },
     "execution_count": 21,
     "metadata": {},
     "output_type": "execute_result"
    }
   ],
   "source": [
    "from joblib import dump, load\n",
    "dump(fr, 'fr_'+metric+'.joblib') "
   ]
  },
  {
   "cell_type": "code",
   "execution_count": null,
   "metadata": {},
   "outputs": [],
   "source": []
  },
  {
   "cell_type": "code",
   "execution_count": null,
   "metadata": {},
   "outputs": [],
   "source": []
  },
  {
   "cell_type": "code",
   "execution_count": null,
   "metadata": {},
   "outputs": [],
   "source": []
  },
  {
   "cell_type": "code",
   "execution_count": null,
   "metadata": {},
   "outputs": [],
   "source": []
  }
 ],
 "metadata": {
  "kernelspec": {
   "display_name": "Python 3",
   "language": "python",
   "name": "python3"
  },
  "language_info": {
   "codemirror_mode": {
    "name": "ipython",
    "version": 3
   },
   "file_extension": ".py",
   "mimetype": "text/x-python",
   "name": "python",
   "nbconvert_exporter": "python",
   "pygments_lexer": "ipython3",
   "version": "3.6.8"
  }
 },
 "nbformat": 4,
 "nbformat_minor": 2
}
