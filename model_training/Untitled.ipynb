{
 "cells": [
  {
   "cell_type": "code",
   "execution_count": 1,
   "metadata": {},
   "outputs": [],
   "source": [
    "import numpy as np\n",
    "import pandas as pd\n",
    "import matplotlib.pyplot as plt\n",
    "import ast"
   ]
  },
  {
   "cell_type": "code",
   "execution_count": 2,
   "metadata": {},
   "outputs": [],
   "source": [
    "def get_classifier(b):\n",
    "    strt=b.find('classifier:__choice__')+25\n",
    "    classifier=\"\"\n",
    "    for i in range(strt,len(b)-strt):\n",
    "        if b[i]!=\",\":\n",
    "            classifier+=b[i]\n",
    "        else:\n",
    "            classifier=classifier[:-1]\n",
    "            break\n",
    "    return classifier"
   ]
  },
  {
   "cell_type": "code",
   "execution_count": 3,
   "metadata": {},
   "outputs": [],
   "source": [
    "#metric=\"accuracy\"\n",
    "#metric=\"f1_score\"\n",
    "#metric=\"recall\"\n",
    "metric=\"precision\""
   ]
  },
  {
   "cell_type": "code",
   "execution_count": 4,
   "metadata": {},
   "outputs": [],
   "source": [
    "docs=[pd.read_csv(\"logs/Results10.csv\"),pd.read_csv(\"logs/Results30.csv\"),pd.read_csv(\"logs/Results60.csv\"),pd.read_csv(\"logs/Results4.csv\")]"
   ]
  },
  {
   "cell_type": "code",
   "execution_count": 5,
   "metadata": {},
   "outputs": [],
   "source": [
    "total=[]\n",
    "names=[\"complete\",\"ensemble\",\"meta learning\",\"vanilla\"]\n",
    "parts=[\"\",\"e_\",\"m_\",\"v_\"]\n",
    "for doc in docs:\n",
    "    classifiers=[]\n",
    "    for index, row in doc.iterrows():\n",
    "        scores=[row[\"sklearn_\"+parts[0]+metric+\"_mean\"],row[\"sklearn_\"+parts[1]+metric+\"_mean\"],row[\"sklearn_\"+parts[2]+metric+\"_mean\"],row[\"sklearn_\"+parts[3]+metric+\"_mean\"]]\n",
    "        ind=(scores.index(max(scores)))\n",
    "        try:\n",
    "            best=[row['Unnamed: 0'],get_classifier(row[\"sklearn_\"+parts[ind]+\"model_1\"]),row[\"sklearn_\"+parts[ind]+metric+\"_mean\"]]\n",
    "        except:\n",
    "            best=[row['Unnamed: 0'],None,None]\n",
    "        classifiers.append(best)\n",
    "    total.append(classifiers)\n"
   ]
  },
  {
   "cell_type": "code",
   "execution_count": 6,
   "metadata": {},
   "outputs": [],
   "source": [
    "merged=[]\n",
    "for i in range(len(total[0])):\n",
    "    a=[total[0][i][2],total[1][i][2],total[2][i][2],total[3][i][2]]\n",
    "    b=[x for x in a if x!=None]\n",
    "    if  b:\n",
    "        ind=(b.index(max(b)))\n",
    "        merged.append(total[ind][i])\n",
    "    else:\n",
    "        merged.append([total[0][i][0], None,None])\n",
    "        pass"
   ]
  },
  {
   "cell_type": "code",
   "execution_count": 7,
   "metadata": {},
   "outputs": [],
   "source": [
    "metas=pd.read_csv(\"Complete_Sheet.csv\")"
   ]
  },
  {
   "cell_type": "code",
   "execution_count": 8,
   "metadata": {},
   "outputs": [],
   "source": [
    "metas=metas.drop(columns=['num_imput_type'])"
   ]
  },
  {
   "cell_type": "code",
   "execution_count": 9,
   "metadata": {},
   "outputs": [],
   "source": [
    "ex_ft=['nr_classes', 'nr_instances', 'log_nr_instances', 'nr_features',\n",
    "       'log_nr_features', 'missing_val', 'nr_categorical_features',\n",
    "       'dataset_ratio', 'labels_mean', 'labels_std', 'skew_min', 'skew_std',\n",
    "       'skew_mean', 'skew_q1', 'skew_q3', 'skew_max', 'kurtosis_min',\n",
    "       'kurtosis_std', 'kurtosis_mean', 'kurtosis_q1', 'kurtosis_q3',\n",
    "       'kurtosis_max', 'rho_min', 'rho_max', 'rho_mean', 'rho_std',\n",
    "       'class_entropy', 'prob_min', 'prob_mean', 'prob_std', 'prob_max',\n",
    "       'norm_entropy_min', 'norm_entropy_mean', 'norm_entropy_std',\n",
    "       'norm_entropy_max', 'mi_min', 'mi_mean', 'mi_std', 'mi_max',\n",
    "       'equiv_nr_feat', 'noise_signal_ratio', 'dataset']"
   ]
  },
  {
   "cell_type": "code",
   "execution_count": 10,
   "metadata": {},
   "outputs": [],
   "source": [
    "metas=metas[ex_ft]\n"
   ]
  },
  {
   "cell_type": "code",
   "execution_count": 11,
   "metadata": {},
   "outputs": [],
   "source": [
    "merged_df = pd.DataFrame(merged,columns=[\"dataset\",\"classifier\",\"score\"]) "
   ]
  },
  {
   "cell_type": "code",
   "execution_count": 12,
   "metadata": {},
   "outputs": [],
   "source": [
    "final=merged_df.merge(metas)"
   ]
  },
  {
   "cell_type": "code",
   "execution_count": 13,
   "metadata": {},
   "outputs": [],
   "source": [
    "final=(final.dropna())"
   ]
  },
  {
   "cell_type": "code",
   "execution_count": 14,
   "metadata": {},
   "outputs": [],
   "source": [
    "final.to_csv(\"merged_meta_\"+metric+\".csv\",index=False)"
   ]
  }
 ],
 "metadata": {
  "kernelspec": {
   "display_name": "Python 3",
   "language": "python",
   "name": "python3"
  },
  "language_info": {
   "codemirror_mode": {
    "name": "ipython",
    "version": 3
   },
   "file_extension": ".py",
   "mimetype": "text/x-python",
   "name": "python",
   "nbconvert_exporter": "python",
   "pygments_lexer": "ipython3",
   "version": "3.6.8"
  }
 },
 "nbformat": 4,
 "nbformat_minor": 2
}
