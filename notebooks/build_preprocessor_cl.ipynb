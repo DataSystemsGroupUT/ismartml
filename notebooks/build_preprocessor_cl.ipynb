{
 "cells": [
  {
   "cell_type": "code",
   "execution_count": null,
   "metadata": {},
   "outputs": [],
   "source": []
  },
  {
   "cell_type": "code",
   "execution_count": 1,
   "metadata": {},
   "outputs": [],
   "source": [
    "#res=[0.79768786127\\\\16763, {'balancing:strategy': 'none', 'categorical_encoding:__choice__': 'one_hot_encoding', 'classifier:__choice__': 'random_forest', 'imputation:strategy': 'mean', 'preprocessor:__choice__': 'select_rates', 'rescaling:__choice__': 'standardize', 'categorical_encoding:one_hot_encoding:use_minimum_fraction': 'True', 'classifier:random_forest:bootstrap': 'False', 'classifier:random_forest:criterion': 'gini', 'classifier:random_forest:max_depth': 'None', 'classifier:random_forest:max_features': 0.9964785360624104, 'classifier:random_forest:max_leaf_nodes': 'None', 'classifier:random_forest:min_impurity_decrease': 0.0, 'classifier:random_forest:min_samples_leaf': 15, 'classifier:random_forest:min_samples_split': 18, 'classifier:random_forest:min_weight_fraction_leaf': 0.0, 'classifier:random_forest:n_estimators': 100, 'preprocessor:select_rates:alpha': 0.16021188115854992, 'preprocessor:select_rates:mode': 'fdr', 'preprocessor:select_rates:score_func': 'f_classif', 'categorical_encoding:one_hot_encoding:minimum_fraction': 0.11068275569878497}]\n",
    "#something"
   ]
  },
  {
   "cell_type": "code",
   "execution_count": 3,
   "metadata": {},
   "outputs": [],
   "source": [
    "res=[0.7745664739884393, {'balancing:strategy': 'none', 'categorical_encoding:__choice__': 'no_encoding', 'classifier:__choice__': 'decision_tree', 'imputation:strategy': 'most_frequent', 'preprocessor:__choice__': 'select_percentile_classification', 'rescaling:__choice__': 'none', 'classifier:decision_tree:criterion': 'gini', 'classifier:decision_tree:max_depth_factor': 0.7677198061046855, 'classifier:decision_tree:max_features': 1.0, 'classifier:decision_tree:max_leaf_nodes': 'None', 'classifier:decision_tree:min_impurity_decrease': 0.0, 'classifier:decision_tree:min_samples_leaf': 9, 'classifier:decision_tree:min_samples_split': 18, 'classifier:decision_tree:min_weight_fraction_leaf': 0.0, 'preprocessor:select_percentile_classification:percentile': 74.20003494448491, 'preprocessor:select_percentile_classification:score_func': 'chi2'}]\n"
   ]
  },
  {
   "cell_type": "code",
   "execution_count": 4,
   "metadata": {},
   "outputs": [
    {
     "name": "stderr",
     "output_type": "stream",
     "text": [
      "/home/ubuntu/autosk/server/lib/python3.6/site-packages/sklearn/ensemble/weight_boosting.py:29: DeprecationWarning: numpy.core.umath_tests is an internal NumPy module and should not be imported. It will be removed in a future NumPy release.\n",
      "  from numpy.core.umath_tests import inner1d\n"
     ]
    }
   ],
   "source": [
    "from sklearn.decomposition import FastICA, PCA\n",
    "from sklearn.ensemble import ExtraTreesClassifier, RandomTreesEmbedding\n",
    "from sklearn.svm import LinearSVC\n",
    "from sklearn.preprocessing import PolynomialFeatures\n"
   ]
  },
  {
   "cell_type": "code",
   "execution_count": 5,
   "metadata": {},
   "outputs": [],
   "source": [
    "def fast_ica(params):\n",
    "    pr=FastICA(**params)\n",
    "    return pr"
   ]
  },
  {
   "cell_type": "code",
   "execution_count": 6,
   "metadata": {},
   "outputs": [],
   "source": [
    "def extra_trees_preproc_for_classification(params):\n",
    "    pr=ExtraTreesClassifier(**params)\n",
    "    return pr"
   ]
  },
  {
   "cell_type": "code",
   "execution_count": 7,
   "metadata": {},
   "outputs": [],
   "source": [
    "def no_preprocessing(params):\n",
    "    pr=None\n",
    "    return pr"
   ]
  },
  {
   "cell_type": "code",
   "execution_count": 8,
   "metadata": {},
   "outputs": [],
   "source": [
    "def liblinear_svc_preprocessor(params):\n",
    "    pr=LinearSVC(**params)\n",
    "    return pr"
   ]
  },
  {
   "cell_type": "code",
   "execution_count": 9,
   "metadata": {},
   "outputs": [],
   "source": [
    "def polynomial(params):\n",
    "    pr=PolynomialFeatures(**params)\n",
    "    return pr"
   ]
  },
  {
   "cell_type": "code",
   "execution_count": 10,
   "metadata": {},
   "outputs": [],
   "source": [
    "def random_trees_embedding(params):\n",
    "    pr=RandomTreesEmbedding(**params)\n",
    "    return pr"
   ]
  },
  {
   "cell_type": "code",
   "execution_count": 11,
   "metadata": {},
   "outputs": [],
   "source": [
    "def pca(params):\n",
    "    params.pop(\"keep_variance\")\n",
    "    pr=PCA(**params)\n",
    "    return pr"
   ]
  },
  {
   "cell_type": "code",
   "execution_count": 12,
   "metadata": {},
   "outputs": [],
   "source": [
    "def pca(params):\n",
    "    params.pop(\"keep_variance\")\n",
    "    pr=PCA(**params)\n",
    "    return pr"
   ]
  },
  {
   "cell_type": "code",
   "execution_count": 13,
   "metadata": {},
   "outputs": [],
   "source": [
    "def build_preprocessor_cl(param_dict):\n",
    "    print(param_dict[\"preprocessor:__choice__\"])\n",
    "    params={}\n",
    "    pre=\"preprocessor:{}:\".format(param_dict[\"preprocessor:__choice__\"])\n",
    "    for key in param_dict.keys():\n",
    "        if pre in key:\n",
    "            params[key[len(pre):]]=param_dict[key]\n",
    "    if param_dict[\"preprocessor:__choice__\"]==\"fast_ica\":\n",
    "            return fast_ica(params)\n",
    "    elif param_dict[\"preprocessor:__choice__\"]==\"extra_trees_preproc_for_classification\":\n",
    "            return extra_trees_preproc_for_classification(params)\n",
    "    elif param_dict[\"preprocessor:__choice__\"]==\"no_preprocessing\":\n",
    "            return no_preprocessing(params)\n",
    "    elif param_dict[\"preprocessor:__choice__\"]==\"liblinear_svc_preprocessor\":\n",
    "            return liblinear_svc_preprocessor(params)\n",
    "    elif param_dict[\"preprocessor:__choice__\"]==\"random_trees_embedding\":\n",
    "            return random_trees_embedding(params)\n",
    "    elif param_dict[\"preprocessor:__choice__\"]==\"polynomial\":\n",
    "            return polynomial(params)\n",
    "    elif param_dict[\"preprocessor:__choice__\"]==\"pca\":\n",
    "            return pca(params)\n",
    "    #elif param_dict[\"preprocessor:__choice__\"]==\"pca\":\n",
    "    #        return pca(params)"
   ]
  },
  {
   "cell_type": "code",
   "execution_count": 16,
   "metadata": {},
   "outputs": [],
   "source": [
    "#print(build_preprocessor_cl(res[1]))"
   ]
  },
  {
   "cell_type": "code",
   "execution_count": null,
   "metadata": {},
   "outputs": [],
   "source": []
  },
  {
   "cell_type": "code",
   "execution_count": null,
   "metadata": {},
   "outputs": [],
   "source": []
  },
  {
   "cell_type": "code",
   "execution_count": null,
   "metadata": {},
   "outputs": [],
   "source": []
  },
  {
   "cell_type": "code",
   "execution_count": null,
   "metadata": {},
   "outputs": [],
   "source": []
  }
 ],
 "metadata": {
  "kernelspec": {
   "display_name": "Python 3",
   "language": "python",
   "name": "python3"
  },
  "language_info": {
   "codemirror_mode": {
    "name": "ipython",
    "version": 3
   },
   "file_extension": ".py",
   "mimetype": "text/x-python",
   "name": "python",
   "nbconvert_exporter": "python",
   "pygments_lexer": "ipython3",
   "version": "3.6.8"
  }
 },
 "nbformat": 4,
 "nbformat_minor": 2
}
