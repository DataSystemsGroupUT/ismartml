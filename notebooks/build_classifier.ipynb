{
 "cells": [
  {
   "cell_type": "code",
   "execution_count": 1,
   "metadata": {},
   "outputs": [
    {
     "name": "stderr",
     "output_type": "stream",
     "text": [
      "/home/ubuntu/autosk/server/lib/python3.6/site-packages/sklearn/ensemble/weight_boosting.py:29: DeprecationWarning: numpy.core.umath_tests is an internal NumPy module and should not be imported. It will be removed in a future NumPy release.\n",
      "  from numpy.core.umath_tests import inner1d\n"
     ]
    }
   ],
   "source": [
    "from sklearn.ensemble import AdaBoostClassifier,ExtraTreesClassifier, GradientBoostingClassifier,RandomForestClassifier\n",
    "from sklearn.tree import DecisionTreeClassifier\n",
    "from sklearn.naive_bayes import BernoulliNB, GaussianNB, MultinomialNB\n",
    "from sklearn.neighbors import KNeighborsClassifier\n",
    "from sklearn.discriminant_analysis import LinearDiscriminantAnalysis, QuadraticDiscriminantAnalysis\n",
    "from sklearn.svm import LinearSVC, SVC\n",
    "from sklearn.linear_model import PassiveAggressiveClassifier,SGDClassifier"
   ]
  },
  {
   "cell_type": "code",
   "execution_count": 2,
   "metadata": {},
   "outputs": [],
   "source": [
    "def adaboost_cl(params):\n",
    "    max_depth=params.pop(\"max_depth\")\n",
    "    params[\"base_estimator\"]=\"DecisionTreeClassifier(max_depth={})\".format(max_depth)\n",
    "    cl=AdaBoostClassifier(**params)\n",
    "    return cl"
   ]
  },
  {
   "cell_type": "code",
   "execution_count": 3,
   "metadata": {},
   "outputs": [],
   "source": [
    "def decision_tree_cl(params):\n",
    "    max_depth=params.pop(\"max_depth_factor\")\n",
    "    cl=DecisionTreeClassifier(**params)\n",
    "    return cl"
   ]
  },
  {
   "cell_type": "code",
   "execution_count": 4,
   "metadata": {},
   "outputs": [],
   "source": [
    "def bernoulli_nb_cl(params):\n",
    "    cl=BernoulliNB(**params)\n",
    "    return cl"
   ]
  },
  {
   "cell_type": "code",
   "execution_count": 5,
   "metadata": {},
   "outputs": [],
   "source": [
    "def extra_trees_cl(params):\n",
    "    cl=ExtraTreesClassifier(**params)\n",
    "    return cl"
   ]
  },
  {
   "cell_type": "code",
   "execution_count": 6,
   "metadata": {},
   "outputs": [],
   "source": [
    "def gaussian_nb_cl(params):\n",
    "    cl=GaussianNB(**params)\n",
    "    return cl"
   ]
  },
  {
   "cell_type": "code",
   "execution_count": 7,
   "metadata": {},
   "outputs": [],
   "source": [
    "def gradient_boosting_cl(params):\n",
    "    cl=GradientBoostingClassifier(**params)\n",
    "    return cl"
   ]
  },
  {
   "cell_type": "code",
   "execution_count": 8,
   "metadata": {},
   "outputs": [],
   "source": [
    "def k_nearest_neighbors_cl(params):\n",
    "    cl=KNeighborsClassifier(**params)\n",
    "    return cl"
   ]
  },
  {
   "cell_type": "code",
   "execution_count": 9,
   "metadata": {},
   "outputs": [],
   "source": [
    "def lda_cl(params):\n",
    "    cl=LinearDiscriminantAnalysis(**params)\n",
    "    return cl"
   ]
  },
  {
   "cell_type": "code",
   "execution_count": 10,
   "metadata": {},
   "outputs": [],
   "source": [
    "def liblinear_svc_cl(params):\n",
    "    cl=LinearSVC(**params)\n",
    "    return cl"
   ]
  },
  {
   "cell_type": "code",
   "execution_count": 11,
   "metadata": {},
   "outputs": [],
   "source": [
    "def libsvm_svc_cl(params):\n",
    "    cl=SVC(**params)\n",
    "    return cl"
   ]
  },
  {
   "cell_type": "code",
   "execution_count": 12,
   "metadata": {},
   "outputs": [],
   "source": [
    "def qda_cl(params):\n",
    "    cl=QuadraticDiscriminantAnalysis(**params)\n",
    "    return cl"
   ]
  },
  {
   "cell_type": "code",
   "execution_count": 13,
   "metadata": {},
   "outputs": [],
   "source": [
    "def passive_aggressive_cl(params):\n",
    "    cl=PassiveAggressiveClassifier(**params)\n",
    "    return cl"
   ]
  },
  {
   "cell_type": "code",
   "execution_count": 14,
   "metadata": {},
   "outputs": [],
   "source": [
    "def multinomial_nb_cl(params):\n",
    "    cl=MultinomialNB(**params)\n",
    "    return cl"
   ]
  },
  {
   "cell_type": "code",
   "execution_count": 15,
   "metadata": {},
   "outputs": [],
   "source": [
    "def random_forest_cl(params):\n",
    "    cl=RandomForestClassifier(**params)\n",
    "    return cl"
   ]
  },
  {
   "cell_type": "code",
   "execution_count": 16,
   "metadata": {},
   "outputs": [],
   "source": [
    "def sgd_cl(params):\n",
    "    cl=SGDClassifier(**params)\n",
    "    return cl"
   ]
  },
  {
   "cell_type": "code",
   "execution_count": 17,
   "metadata": {},
   "outputs": [],
   "source": [
    "res=[0.7976878612716763, {'balancing:strategy': 'none', 'categorical_encoding:__choice__': 'no_encoding', 'classifier:__choice__': 'random_forest', 'imputation:strategy': 'mean', 'preprocessor:__choice__': 'no_preprocessing', 'rescaling:__choice__': 'none', 'classifier:random_forest:bootstrap': 'False', 'classifier:random_forest:criterion': 'gini', 'classifier:random_forest:max_depth': 'None', 'classifier:random_forest:max_features': 0.8576515128085305, 'classifier:random_forest:max_leaf_nodes': 'None', 'classifier:random_forest:min_impurity_decrease': 0.0, 'classifier:random_forest:min_samples_leaf': 15, 'classifier:random_forest:min_samples_split': 5, 'classifier:random_forest:min_weight_fraction_leaf': 0.0, 'classifier:random_forest:n_estimators': 100}]\n"
   ]
  },
  {
   "cell_type": "code",
   "execution_count": 18,
   "metadata": {},
   "outputs": [],
   "source": [
    "a=[\"adaboost\",\"bernoulli_nb\",\"decision_tree\", \"extra_trees\",\"gaussian_nb\", \"gradient_boosting\",\"k_nearest_neighbors\", \"lda\",\"liblinear_svc\",\"libsvm_svc\",\"multinomial_nb\",\"passive_aggressive\",\"qda\",\"random_forest\",\"sgd\",\"xgradient_boosting\"]"
   ]
  },
  {
   "cell_type": "code",
   "execution_count": 19,
   "metadata": {},
   "outputs": [],
   "source": [
    "def build_classifier(param_dict):\n",
    "    print(param_dict[\"classifier:__choice__\"])\n",
    "    params={}\n",
    "    pre=\"classifier:{}:\".format(param_dict[\"classifier:__choice__\"])\n",
    "    for key in param_dict.keys():\n",
    "        if pre in key:\n",
    "            params[key[len(pre):]]=param_dict[key]\n",
    "    if param_dict[\"classifier:__choice__\"]==\"adaboost\":\n",
    "            return adaboost_cl(params)\n",
    "    elif param_dict[\"classifier:__choice__\"]==\"decision_tree\":\n",
    "            return decision_tree_cl(params)\n",
    "    elif param_dict[\"classifier:__choice__\"]==\"bernoulli_nb\":\n",
    "            return bernoulli_nb_cl(params)\n",
    "    elif param_dict[\"classifier:__choice__\"]==\"extra_trees\":\n",
    "            return extra_trees_cl(params)\n",
    "    elif param_dict[\"classifier:__choice__\"]==\"gaussian_nb\":\n",
    "            return gaussian_nb_cl(params)\n",
    "    elif param_dict[\"classifier:__choice__\"]==\"gradient_boosting\":\n",
    "            return gradient_boosting_cl(params)\n",
    "    elif param_dict[\"classifier:__choice__\"]==\"k_nearest_neighbors\":\n",
    "            return k_nearest_neighbors_cl(params)\n",
    "    elif param_dict[\"classifier:__choice__\"]==\"lda\":\n",
    "            return lda_cl(params)\n",
    "    elif param_dict[\"classifier:__choice__\"]==\"liblinear_svc\":\n",
    "            return liblinear_svc_cl(params)\n",
    "    elif param_dict[\"classifier:__choice__\"]==\"libsvm_svc\":\n",
    "            return libsvm_svc_cl(params)\n",
    "    elif param_dict[\"classifier:__choice__\"]==\"qda\":\n",
    "        return qda_cl(params)\n",
    "    elif param_dict[\"classifier:__choice__\"]==\"passive_aggressive\":\n",
    "        return passive_aggressive_cl(params)\n",
    "    elif param_dict[\"classifier:__choice__\"]==\"multinomial_nb\":\n",
    "        return multinomial_nb_cl(params)\n",
    "    elif param_dict[\"classifier:__choice__\"]==\"random_forest\":\n",
    "        return random_forest_cl(params)\n",
    "    elif param_dict[\"classifier:__choice__\"]==\"sgd\":\n",
    "        return sgd_cl(params)\n",
    "    else:\n",
    "        return None\n",
    "\n",
    "\n",
    "    "
   ]
  },
  {
   "cell_type": "code",
   "execution_count": 20,
   "metadata": {},
   "outputs": [
    {
     "name": "stdout",
     "output_type": "stream",
     "text": [
      "random_forest\n"
     ]
    }
   ],
   "source": [
    "from sklearn.pipeline import Pipeline\n",
    "from sklearn.preprocessing import StandardScaler\n",
    "mod=build_classifier(res[1])\n",
    "features=[\"V1\",\"V2\",\"V3\",\"V4\",\"class\"]\n",
    "target=\"class\"\n",
    "#from nyoka import skl_to_pmml\n",
    "#skl_to_pmml(pipeline_obj,features,target,\"svc_pmml.pmml\")\n",
    "\n",
    "#pipeline_obj = Pipeline([('scaler', StandardScaler()),('svm',SVC())])\n",
    "pipeline_obj = Pipeline([('classifier',mod)])\n",
    "#skl_to_pmml(pipeline_obj,features,target,\"svc_pmml.pmml\")"
   ]
  },
  {
   "cell_type": "code",
   "execution_count": 22,
   "metadata": {},
   "outputs": [
    {
     "data": {
      "text/plain": [
       "Pipeline(memory=None,\n",
       "     steps=[('scaler', StandardScaler(copy=True, with_mean=True, with_std=True)), ('svm', SVC(C=1.0, cache_size=200, class_weight=None, coef0=0.0,\n",
       "  decision_function_shape='ovr', degree=3, gamma='auto', kernel='rbf',\n",
       "  max_iter=-1, probability=False, random_state=None, shrinking=True,\n",
       "  tol=0.001, verbose=False))])"
      ]
     },
     "execution_count": 22,
     "metadata": {},
     "output_type": "execute_result"
    }
   ],
   "source": [
    "import pandas as pd\n",
    "from sklearn import datasets\n",
    "from sklearn.pipeline import Pipeline\n",
    "from sklearn.preprocessing import StandardScaler\n",
    "from sklearn.svm import SVC\n",
    "\n",
    "iris = datasets.load_iris()\n",
    "irisd = pd.DataFrame(iris.data,columns=iris.feature_names)\n",
    "irisd['Species'] = iris.target\n",
    "features = irisd.columns.drop('Species')\n",
    "target = 'Species'\n",
    "\n",
    "pipeline_obj = Pipeline([\n",
    "    ('scaler', StandardScaler()),\n",
    "    ('svm',SVC())\n",
    "])\n",
    "pipeline_obj.fit(irisd[features],irisd[target])\n",
    "\n",
    "#from nyoka import skl_to_pmml\n",
    "#skl_to_pmml(pipeline_obj,features,target,\"svc_pmml.pmml\")"
   ]
  },
  {
   "cell_type": "code",
   "execution_count": null,
   "metadata": {},
   "outputs": [],
   "source": []
  }
 ],
 "metadata": {
  "kernelspec": {
   "display_name": "Python 3",
   "language": "python",
   "name": "python3"
  },
  "language_info": {
   "codemirror_mode": {
    "name": "ipython",
    "version": 3
   },
   "file_extension": ".py",
   "mimetype": "text/x-python",
   "name": "python",
   "nbconvert_exporter": "python",
   "pygments_lexer": "ipython3",
   "version": "3.6.8"
  }
 },
 "nbformat": 4,
 "nbformat_minor": 2
}
